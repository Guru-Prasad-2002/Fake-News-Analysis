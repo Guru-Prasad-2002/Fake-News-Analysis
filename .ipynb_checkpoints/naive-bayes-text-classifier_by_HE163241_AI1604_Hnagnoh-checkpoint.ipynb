{
 "cells": [
  {
   "cell_type": "code",
   "execution_count": 1,
   "id": "ece4767b",
   "metadata": {
    "_cell_guid": "b1076dfc-b9ad-4769-8c92-a6c4dae69d19",
    "_uuid": "8f2839f25d086af736a60e9eeb907d3b93b6e0e5",
    "execution": {
     "iopub.execute_input": "2022-09-27T13:58:54.571435Z",
     "iopub.status.busy": "2022-09-27T13:58:54.569977Z",
     "iopub.status.idle": "2022-09-27T13:58:54.591993Z",
     "shell.execute_reply": "2022-09-27T13:58:54.590750Z"
    },
    "papermill": {
     "duration": 0.031646,
     "end_time": "2022-09-27T13:58:54.595053",
     "exception": false,
     "start_time": "2022-09-27T13:58:54.563407",
     "status": "completed"
    },
    "tags": []
   },
   "outputs": [
    {
     "name": "stdout",
     "output_type": "stream",
     "text": [
      "/kaggle/input/fake-and-real-news-dataset/True.csv\n",
      "/kaggle/input/fake-and-real-news-dataset/Fake.csv\n"
     ]
    }
   ],
   "source": [
    "# This Python 3 environment comes with many helpful analytics libraries installed\n",
    "# It is defined by the kaggle/python Docker image: https://github.com/kaggle/docker-python\n",
    "# For example, here's several helpful packages to load\n",
    "\n",
    "import numpy as np # linear algebra\n",
    "import pandas as pd # data processing, CSV file I/O (e.g. pd.read_csv)\n",
    "\n",
    "# Input data files are available in the read-only \"../input/\" directory\n",
    "# For example, running this (by clicking run or pressing Shift+Enter) will list all files under the input directory\n",
    "\n",
    "import os\n",
    "for dirname, _, filenames in os.walk('/kaggle/input'):\n",
    "    for filename in filenames:\n",
    "        print(os.path.join(dirname, filename))\n",
    "\n",
    "# You can write up to 20GB to the current directory (/kaggle/working/) that gets preserved as output when you create a version using \"Save & Run All\" \n",
    "# You can also write temporary files to /kaggle/temp/, but they won't be saved outside of the current session"
   ]
  },
  {
   "cell_type": "code",
   "execution_count": 2,
   "id": "459622ab",
   "metadata": {
    "execution": {
     "iopub.execute_input": "2022-09-27T13:58:54.607287Z",
     "iopub.status.busy": "2022-09-27T13:58:54.606517Z",
     "iopub.status.idle": "2022-09-27T13:58:57.645997Z",
     "shell.execute_reply": "2022-09-27T13:58:57.644795Z"
    },
    "papermill": {
     "duration": 3.048803,
     "end_time": "2022-09-27T13:58:57.648869",
     "exception": false,
     "start_time": "2022-09-27T13:58:54.600066",
     "status": "completed"
    },
    "tags": []
   },
   "outputs": [],
   "source": [
    "data_fake = pd.read_csv(\"../input/fake-and-real-news-dataset/Fake.csv\")\n",
    "data_true = pd.read_csv(\"../input/fake-and-real-news-dataset/True.csv\")\n",
    "\n",
    "data_fake = data_fake.drop(['title','subject','date'], axis = 1)\n",
    "data_true = data_true.drop(['title','subject','date'], axis = 1)\n",
    "\n",
    "data_fake['fake'] = '1'\n",
    "data_true['fake'] = '0'\n",
    "\n",
    "data = data_fake.append(data_true,ignore_index = True)\n",
    "data = data.sample(frac=1).reset_index(drop=True)\n",
    "data.index = [i for i in range(0,data.shape[0])]"
   ]
  },
  {
   "cell_type": "code",
   "execution_count": 3,
   "id": "5bd53af1",
   "metadata": {
    "execution": {
     "iopub.execute_input": "2022-09-27T13:58:57.657994Z",
     "iopub.status.busy": "2022-09-27T13:58:57.657389Z",
     "iopub.status.idle": "2022-09-27T13:58:57.684558Z",
     "shell.execute_reply": "2022-09-27T13:58:57.683389Z"
    },
    "papermill": {
     "duration": 0.034743,
     "end_time": "2022-09-27T13:58:57.687244",
     "exception": false,
     "start_time": "2022-09-27T13:58:57.652501",
     "status": "completed"
    },
    "tags": []
   },
   "outputs": [
    {
     "data": {
      "text/html": [
       "<div>\n",
       "<style scoped>\n",
       "    .dataframe tbody tr th:only-of-type {\n",
       "        vertical-align: middle;\n",
       "    }\n",
       "\n",
       "    .dataframe tbody tr th {\n",
       "        vertical-align: top;\n",
       "    }\n",
       "\n",
       "    .dataframe thead th {\n",
       "        text-align: right;\n",
       "    }\n",
       "</style>\n",
       "<table border=\"1\" class=\"dataframe\">\n",
       "  <thead>\n",
       "    <tr style=\"text-align: right;\">\n",
       "      <th></th>\n",
       "      <th>text</th>\n",
       "      <th>fake</th>\n",
       "    </tr>\n",
       "  </thead>\n",
       "  <tbody>\n",
       "    <tr>\n",
       "      <th>0</th>\n",
       "      <td>DUBAI (Reuters) - Emirates airline has changed...</td>\n",
       "      <td>0</td>\n",
       "    </tr>\n",
       "    <tr>\n",
       "      <th>1</th>\n",
       "      <td>This is unseemly behavior by a First Lady and ...</td>\n",
       "      <td>1</td>\n",
       "    </tr>\n",
       "    <tr>\n",
       "      <th>2</th>\n",
       "      <td>BERLIN (Reuters) - The number of asylum seeker...</td>\n",
       "      <td>0</td>\n",
       "    </tr>\n",
       "    <tr>\n",
       "      <th>3</th>\n",
       "      <td>BAGHDAD (Reuters) - An Iraqi army helicopter c...</td>\n",
       "      <td>0</td>\n",
       "    </tr>\n",
       "    <tr>\n",
       "      <th>4</th>\n",
       "      <td>Years of lugging guns around in public places ...</td>\n",
       "      <td>1</td>\n",
       "    </tr>\n",
       "    <tr>\n",
       "      <th>...</th>\n",
       "      <td>...</td>\n",
       "      <td>...</td>\n",
       "    </tr>\n",
       "    <tr>\n",
       "      <th>44893</th>\n",
       "      <td>It s an epidemic over there inside the Fox net...</td>\n",
       "      <td>1</td>\n",
       "    </tr>\n",
       "    <tr>\n",
       "      <th>44894</th>\n",
       "      <td>MOSCOW (Reuters) - Moscow expects new complica...</td>\n",
       "      <td>0</td>\n",
       "    </tr>\n",
       "    <tr>\n",
       "      <th>44895</th>\n",
       "      <td>Black Lives Matter, the group that many believ...</td>\n",
       "      <td>1</td>\n",
       "    </tr>\n",
       "    <tr>\n",
       "      <th>44896</th>\n",
       "      <td>Heads are spinning since President Trump and V...</td>\n",
       "      <td>1</td>\n",
       "    </tr>\n",
       "    <tr>\n",
       "      <th>44897</th>\n",
       "      <td>The following statements were posted to the ve...</td>\n",
       "      <td>0</td>\n",
       "    </tr>\n",
       "  </tbody>\n",
       "</table>\n",
       "<p>44898 rows × 2 columns</p>\n",
       "</div>"
      ],
      "text/plain": [
       "                                                    text fake\n",
       "0      DUBAI (Reuters) - Emirates airline has changed...    0\n",
       "1      This is unseemly behavior by a First Lady and ...    1\n",
       "2      BERLIN (Reuters) - The number of asylum seeker...    0\n",
       "3      BAGHDAD (Reuters) - An Iraqi army helicopter c...    0\n",
       "4      Years of lugging guns around in public places ...    1\n",
       "...                                                  ...  ...\n",
       "44893  It s an epidemic over there inside the Fox net...    1\n",
       "44894  MOSCOW (Reuters) - Moscow expects new complica...    0\n",
       "44895  Black Lives Matter, the group that many believ...    1\n",
       "44896  Heads are spinning since President Trump and V...    1\n",
       "44897  The following statements were posted to the ve...    0\n",
       "\n",
       "[44898 rows x 2 columns]"
      ]
     },
     "execution_count": 3,
     "metadata": {},
     "output_type": "execute_result"
    }
   ],
   "source": [
    "data"
   ]
  },
  {
   "cell_type": "code",
   "execution_count": 4,
   "id": "edb3117d",
   "metadata": {
    "execution": {
     "iopub.execute_input": "2022-09-27T13:58:57.697282Z",
     "iopub.status.busy": "2022-09-27T13:58:57.696863Z",
     "iopub.status.idle": "2022-09-27T13:59:12.929062Z",
     "shell.execute_reply": "2022-09-27T13:59:12.927980Z"
    },
    "papermill": {
     "duration": 15.2405,
     "end_time": "2022-09-27T13:59:12.931754",
     "exception": false,
     "start_time": "2022-09-27T13:58:57.691254",
     "status": "completed"
    },
    "tags": []
   },
   "outputs": [],
   "source": [
    "from sklearn.naive_bayes import MultinomialNB\n",
    "from sklearn.model_selection import cross_val_score, StratifiedKFold\n",
    "from sklearn.feature_extraction.text import CountVectorizer\n",
    "\n",
    "X = data.copy()\n",
    "\n",
    "score = []\n",
    "kfold = StratifiedKFold(n_splits=5)\n",
    "vc = CountVectorizer()\n",
    "df_count = vc.fit_transform(data.text.values)"
   ]
  },
  {
   "cell_type": "code",
   "execution_count": 5,
   "id": "516b16d9",
   "metadata": {
    "execution": {
     "iopub.execute_input": "2022-09-27T13:59:12.941374Z",
     "iopub.status.busy": "2022-09-27T13:59:12.940955Z",
     "iopub.status.idle": "2022-09-27T13:59:12.947038Z",
     "shell.execute_reply": "2022-09-27T13:59:12.945655Z"
    },
    "papermill": {
     "duration": 0.014293,
     "end_time": "2022-09-27T13:59:12.950000",
     "exception": false,
     "start_time": "2022-09-27T13:59:12.935707",
     "status": "completed"
    },
    "tags": []
   },
   "outputs": [
    {
     "name": "stdout",
     "output_type": "stream",
     "text": [
      "(44898, 122002)\n"
     ]
    }
   ],
   "source": [
    "print(df_count.shape)"
   ]
  },
  {
   "cell_type": "code",
   "execution_count": 6,
   "id": "a624201b",
   "metadata": {
    "execution": {
     "iopub.execute_input": "2022-09-27T13:59:12.959692Z",
     "iopub.status.busy": "2022-09-27T13:59:12.959253Z",
     "iopub.status.idle": "2022-09-27T13:59:13.259839Z",
     "shell.execute_reply": "2022-09-27T13:59:13.258193Z"
    },
    "papermill": {
     "duration": 0.308684,
     "end_time": "2022-09-27T13:59:13.262714",
     "exception": false,
     "start_time": "2022-09-27T13:59:12.954030",
     "status": "completed"
    },
    "tags": []
   },
   "outputs": [
    {
     "name": "stdout",
     "output_type": "stream",
     "text": [
      "  (0, 36220)\t2\n",
      "  (0, 92503)\t6\n",
      "  (0, 38188)\t7\n",
      "  (0, 10357)\t3\n",
      "  (0, 50045)\t4\n",
      "  (0, 24397)\t1\n",
      "  (0, 84168)\t1\n",
      "  (0, 12004)\t18\n",
      "  (0, 42897)\t7\n",
      "  (0, 14376)\t1\n",
      "  (0, 94070)\t1\n",
      "  (0, 79658)\t21\n",
      "  (0, 42901)\t3\n",
      "  (0, 109171)\t29\n",
      "  (0, 107802)\t52\n",
      "  (0, 113224)\t4\n",
      "  (0, 103170)\t3\n",
      "  (0, 43255)\t1\n",
      "  (0, 104648)\t1\n",
      "  (0, 110234)\t6\n",
      "  (0, 15780)\t8\n",
      "  (0, 98089)\t2\n",
      "  (0, 74499)\t2\n",
      "  (0, 67857)\t2\n",
      "  (0, 29157)\t4\n",
      "  :\t:\n",
      "  (0, 22572)\t1\n",
      "  (0, 16318)\t1\n",
      "  (0, 19854)\t2\n",
      "  (0, 81141)\t1\n",
      "  (0, 47473)\t1\n",
      "  (0, 13057)\t1\n",
      "  (0, 11163)\t1\n",
      "  (0, 23181)\t1\n",
      "  (0, 54298)\t1\n",
      "  (0, 85605)\t1\n",
      "  (0, 79172)\t1\n",
      "  (0, 90939)\t1\n",
      "  (0, 89910)\t1\n",
      "  (0, 19591)\t1\n",
      "  (0, 117297)\t1\n",
      "  (0, 16980)\t1\n",
      "  (0, 54355)\t1\n",
      "  (0, 88216)\t1\n",
      "  (0, 31897)\t1\n",
      "  (0, 11353)\t1\n",
      "  (0, 56911)\t2\n",
      "  (0, 103162)\t1\n",
      "  (0, 34025)\t1\n",
      "  (0, 99888)\t1\n",
      "  (0, 103165)\t1\n",
      "['00' '000' '0000' ... 'zzzzzzzz' 'zzzzzzzzzzzzz' 'émigré']\n",
      "the 52\n"
     ]
    }
   ],
   "source": [
    "#sparse vector of the first text\n",
    "print(df_count[0,:])\n",
    "\n",
    "#print(vc.vocabulary_)\n",
    "print(vc.get_feature_names_out())\n",
    "print(vc.get_feature_names_out()[107802], df_count[0,107802])\n",
    "\n",
    "\n",
    "# for i in range(107800,df_count[0].shape[1]):    \n",
    "#     print(df_count[0,i],vc.get_feature_names_out()[i])\n"
   ]
  },
  {
   "cell_type": "code",
   "execution_count": 7,
   "id": "ca748756",
   "metadata": {
    "execution": {
     "iopub.execute_input": "2022-09-27T13:59:13.273210Z",
     "iopub.status.busy": "2022-09-27T13:59:13.272805Z",
     "iopub.status.idle": "2022-09-27T14:00:40.994294Z",
     "shell.execute_reply": "2022-09-27T14:00:40.993053Z"
    },
    "papermill": {
     "duration": 87.734636,
     "end_time": "2022-09-27T14:00:41.001778",
     "exception": false,
     "start_time": "2022-09-27T13:59:13.267142",
     "status": "completed"
    },
    "tags": []
   },
   "outputs": [
    {
     "name": "stdout",
     "output_type": "stream",
     "text": [
      "0.9560133630289532\n",
      "0.9542316258351893\n",
      "0.9524498886414254\n",
      "0.9517763670787392\n",
      "0.9519991090321862\n",
      "=====================================================\n",
      "0.9532940707232986\n"
     ]
    },
    {
     "data": {
      "text/plain": [
       "MultinomialNB()"
      ]
     },
     "execution_count": 7,
     "metadata": {},
     "output_type": "execute_result"
    }
   ],
   "source": [
    "from sklearn.naive_bayes import MultinomialNB\n",
    "from sklearn.model_selection import cross_val_score, StratifiedKFold\n",
    "from sklearn.feature_extraction.text import CountVectorizer\n",
    "\n",
    "X = data.copy()\n",
    "\n",
    "score = []\n",
    "kfold = StratifiedKFold(n_splits=5)\n",
    "\n",
    "for train, valid in kfold.split(X, X.fake):\n",
    "    X_train = X.loc[train]\n",
    "    X_valid = X.loc[valid]\n",
    "    y_train = X_train.pop(\"fake\")\n",
    "    y_valid = X_valid.pop(\"fake\")\n",
    "    \n",
    "    vc = CountVectorizer()\n",
    "    X_count_train = vc.fit_transform(X_train.text.values)\n",
    "    X_count_valid = vc.transform(X_valid.text.values)\n",
    "    \n",
    "    nb = MultinomialNB()\n",
    "    nb.fit(X_count_train, y_train)\n",
    "    \n",
    "    score.append(nb.score(X_count_valid, y_valid))\n",
    "    print(nb.score(X_count_valid, y_valid))\n",
    "\n",
    "vc = CountVectorizer()\n",
    "df_count = vc.fit_transform(data.text.values)\n",
    "\n",
    "#np.append(df_count, df[pd.get_dummies(df[\"subject\"]).columns.values].values)\n",
    "#df_count.shape\n",
    "\n",
    "print(\"=====================================================\")\n",
    "print(np.mean(score))\n",
    "nb = MultinomialNB()\n",
    "nb.fit(df_count, data.fake)"
   ]
  },
  {
   "cell_type": "code",
   "execution_count": 8,
   "id": "b45a56ed",
   "metadata": {
    "execution": {
     "iopub.execute_input": "2022-09-27T14:00:41.012894Z",
     "iopub.status.busy": "2022-09-27T14:00:41.012447Z",
     "iopub.status.idle": "2022-09-27T14:00:41.018948Z",
     "shell.execute_reply": "2022-09-27T14:00:41.017515Z"
    },
    "papermill": {
     "duration": 0.014903,
     "end_time": "2022-09-27T14:00:41.021297",
     "exception": false,
     "start_time": "2022-09-27T14:00:41.006394",
     "status": "completed"
    },
    "tags": []
   },
   "outputs": [],
   "source": [
    "def predict(X):\n",
    "    X_count = vc.transform(X.values)\n",
    "    return nb.predict(X_count)\n",
    "def predict_proba(X):\n",
    "    X_count = vc.transform(X.values)\n",
    "    #np.append(df_count, df[pd.get_dummies(df[\"subject\"]).columns.values].values)\n",
    "    return nb.predict_proba(X_count)"
   ]
  },
  {
   "cell_type": "code",
   "execution_count": 9,
   "id": "f11f3346",
   "metadata": {
    "execution": {
     "iopub.execute_input": "2022-09-27T14:00:41.033063Z",
     "iopub.status.busy": "2022-09-27T14:00:41.032036Z",
     "iopub.status.idle": "2022-09-27T14:00:41.048392Z",
     "shell.execute_reply": "2022-09-27T14:00:41.047021Z"
    },
    "papermill": {
     "duration": 0.024851,
     "end_time": "2022-09-27T14:00:41.050816",
     "exception": false,
     "start_time": "2022-09-27T14:00:41.025965",
     "status": "completed"
    },
    "tags": []
   },
   "outputs": [
    {
     "name": "stdout",
     "output_type": "stream",
     "text": [
      "['1']\n",
      "[[0.47701457 0.52298543]]\n",
      "\n",
      "Prediction: Fake\n",
      "Probability:\n",
      "\tFake: 0.5229854336496055\n",
      "\tTrue: 0.4770145663503944\n"
     ]
    }
   ],
   "source": [
    "#demo = \"The Ghost of Kyiv is a mythical figure and not real. Viral video showing the Ghost of Kyiv shooting down a Russian plane was viewed over 1.6 million times on Twitter. The video is actually from a video game simulator released in 2008.\"\n",
    "#demo = \"After the Twitter spat pushed the story into the spotlight, AWD updated it to identify Ya’alon as a former defence minister in the body of the text, but left the headline unchanged. It continued to mis-identify Tariq Fatemi, special assistant to the Pakistani prime minister, as minister of state for foreign affairs.\"\n",
    "#demo = data_fake.iloc[2].text\n",
    "#demo = \"WNDR shall not be responsible for any incorrect or inaccurate information, whether caused by website users or by any of the equipment or programming associated with or utilized in this website or by any technical or human error which may occur.  WNDR assumes however all responsibility for the satirical nature of its articles and for the fictional nature of their content. All characters appearing in the articles in this website – even those based on real people –  are entirely fictional and any resemblance between them and any persons, living, dead, or undead is purely a miracle.\"\n",
    "#demo = \"Besides, agricultural products and pomelo in particular are subject to preferential tariffs under free trade agreements to which Viet Nam is a member. The export potential to many markets of Vietnamese pomelo is still large. Thuy pointed out that currently, Vietnamese pomelo was mainly exported in the form of fresh fruit with low added value. Pomelo could be processed into many different products such as fruit juice, essential oil and jam while the essence in pomelo peel could be used to produce many types of pharmaceuticals and foodstuffs.\"\n",
    "# demo = \"\"\"\n",
    "# 34-year old Volodymyr Karpenko, a financial and trade consultant who spent several years in Moscow working for the Kremlin, publicly accused Vladimir Putin in 2021 of organizing his kidnapping in Moscow in 2016 and holding his as a prisoner and personal sex slave for more than three years.\n",
    "# \"\"\"\n",
    "# demo = \"\"\"\n",
    "# President Joe Biden hasn’t filed anything yet with the Federal Election Commission that would officially indicate he’s running for reelection. But partisan social media accounts have been falsely claiming that he has. The claims are based on a misinterpretation of a routine filing.\n",
    "# \"\"\"\n",
    "# demo = X.loc[0][\"text\"]\n",
    "# demo_class = X.loc[0][\"fake\"]\n",
    "# print(demo)\n",
    "# print(demo_class)\n",
    "demo = \"\"\"\n",
    "\n",
    "\n",
    "\n",
    "\"\"\"\n",
    "prediction = predict(pd.DataFrame([demo], columns=[\"f\"]).f)\n",
    "print(prediction)\n",
    "prediction_proba = predict_proba(pd.DataFrame([demo], columns=[\"f\"]).f)\n",
    "print(prediction_proba)\n",
    "print(\"\\nPrediction:\",\"Fake\" if prediction[0] == '1' else \"True\")\n",
    "print(\"Probability:\")\n",
    "print(\"\\tFake:\",prediction_proba[0][1])\n",
    "print(\"\\tTrue:\",prediction_proba[0][0])"
   ]
  },
  {
   "cell_type": "code",
   "execution_count": null,
   "id": "c0ecf5d2",
   "metadata": {
    "papermill": {
     "duration": 0.004312,
     "end_time": "2022-09-27T14:00:41.059888",
     "exception": false,
     "start_time": "2022-09-27T14:00:41.055576",
     "status": "completed"
    },
    "tags": []
   },
   "outputs": [],
   "source": []
  }
 ],
 "metadata": {
  "kernelspec": {
   "display_name": "Python 3",
   "language": "python",
   "name": "python3"
  },
  "language_info": {
   "codemirror_mode": {
    "name": "ipython",
    "version": 3
   },
   "file_extension": ".py",
   "mimetype": "text/x-python",
   "name": "python",
   "nbconvert_exporter": "python",
   "pygments_lexer": "ipython3",
   "version": "3.7.12"
  },
  "papermill": {
   "default_parameters": {},
   "duration": 116.187071,
   "end_time": "2022-09-27T14:00:41.887632",
   "environment_variables": {},
   "exception": null,
   "input_path": "__notebook__.ipynb",
   "output_path": "__notebook__.ipynb",
   "parameters": {},
   "start_time": "2022-09-27T13:58:45.700561",
   "version": "2.3.4"
  }
 },
 "nbformat": 4,
 "nbformat_minor": 5
}
