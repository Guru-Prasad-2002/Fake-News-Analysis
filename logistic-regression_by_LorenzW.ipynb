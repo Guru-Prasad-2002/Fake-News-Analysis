{
 "cells": [
  {
   "cell_type": "code",
   "execution_count": 4,
   "metadata": {
    "_cell_guid": "b1076dfc-b9ad-4769-8c92-a6c4dae69d19",
    "_uuid": "8f2839f25d086af736a60e9eeb907d3b93b6e0e5",
    "execution": {
     "iopub.execute_input": "2022-11-18T13:12:58.912513Z",
     "iopub.status.busy": "2022-11-18T13:12:58.911981Z",
     "iopub.status.idle": "2022-11-18T13:13:07.319020Z",
     "shell.execute_reply": "2022-11-18T13:13:07.317661Z",
     "shell.execute_reply.started": "2022-11-18T13:12:58.912399Z"
    }
   },
   "outputs": [
    {
     "name": "stdout",
     "output_type": "stream",
     "text": [
      "Requirement already satisfied: keras in /home/hashirama_b/.local/lib/python3.8/site-packages (2.11.0)\n",
      "Note: you may need to restart the kernel to use updated packages.\n"
     ]
    }
   ],
   "source": [
    "pip install keras\n"
   ]
  },
  {
   "cell_type": "code",
   "execution_count": null,
   "metadata": {},
   "outputs": [],
   "source": [
    "import keras\n",
    "import numpy as np # linear algebra\n",
    "import pandas as pd # data processing, CSV file I/O (e.g. pd.read_csv)\n",
    "import tensorflow as tf # manipulating tensors\n",
    "from gensim.models import KeyedVectors # library for importing pretrained WordEmbeddings\n",
    "from tensorflow.keras.preprocessing.text import Tokenizer # used to tokenize textsequence\n",
    "from tensorflow.keras.preprocessing.sequence import pad_sequences # padding sequences to the same length\n",
    "from sklearn.model_selection import train_test_split # split data into training and validation set \n",
    "from tensorflow.keras.models import Sequential # building sequential models like FF layer in the transformer encoder\n",
    "from tensorflow.keras.layers import Dense,Embedding # used for parts of the transformer encoder\n",
    "from tensorflow.keras import layers\n",
    "import re # Regex for standardizing text"
   ]
  },
  {
   "cell_type": "code",
   "execution_count": 2,
   "metadata": {
    "execution": {
     "iopub.execute_input": "2022-11-18T13:13:07.322349Z",
     "iopub.status.busy": "2022-11-18T13:13:07.321673Z",
     "iopub.status.idle": "2022-11-18T13:13:10.189492Z",
     "shell.execute_reply": "2022-11-18T13:13:10.187733Z",
     "shell.execute_reply.started": "2022-11-18T13:13:07.322311Z"
    }
   },
   "outputs": [
    {
     "name": "stdout",
     "output_type": "stream",
     "text": [
      "Number of fake Articles: 23481\n",
      "Number of real Articles: 21417\n"
     ]
    },
    {
     "data": {
      "text/html": [
       "<div>\n",
       "<style scoped>\n",
       "    .dataframe tbody tr th:only-of-type {\n",
       "        vertical-align: middle;\n",
       "    }\n",
       "\n",
       "    .dataframe tbody tr th {\n",
       "        vertical-align: top;\n",
       "    }\n",
       "\n",
       "    .dataframe thead th {\n",
       "        text-align: right;\n",
       "    }\n",
       "</style>\n",
       "<table border=\"1\" class=\"dataframe\">\n",
       "  <thead>\n",
       "    <tr style=\"text-align: right;\">\n",
       "      <th></th>\n",
       "      <th>text</th>\n",
       "      <th>label</th>\n",
       "    </tr>\n",
       "  </thead>\n",
       "  <tbody>\n",
       "    <tr>\n",
       "      <th>18620</th>\n",
       "      <td>BARCELONA (Reuters) - Tens of thousands of Cat...</td>\n",
       "      <td>0</td>\n",
       "    </tr>\n",
       "    <tr>\n",
       "      <th>21550</th>\n",
       "      <td>Greg Gutfield asks the question we all would l...</td>\n",
       "      <td>1</td>\n",
       "    </tr>\n",
       "    <tr>\n",
       "      <th>15265</th>\n",
       "      <td>JAKARTA/TIMIKA, Indonesia (Reuters) - Armed se...</td>\n",
       "      <td>0</td>\n",
       "    </tr>\n",
       "    <tr>\n",
       "      <th>9424</th>\n",
       "      <td>HO CHI MINH CITY, Vietnam (Reuters) - Washingt...</td>\n",
       "      <td>0</td>\n",
       "    </tr>\n",
       "    <tr>\n",
       "      <th>15835</th>\n",
       "      <td>We have not observed the principles and ideal...</td>\n",
       "      <td>1</td>\n",
       "    </tr>\n",
       "  </tbody>\n",
       "</table>\n",
       "</div>"
      ],
      "text/plain": [
       "                                                    text  label\n",
       "18620  BARCELONA (Reuters) - Tens of thousands of Cat...      0\n",
       "21550  Greg Gutfield asks the question we all would l...      1\n",
       "15265  JAKARTA/TIMIKA, Indonesia (Reuters) - Armed se...      0\n",
       "9424   HO CHI MINH CITY, Vietnam (Reuters) - Washingt...      0\n",
       "15835   We have not observed the principles and ideal...      1"
      ]
     },
     "execution_count": 2,
     "metadata": {},
     "output_type": "execute_result"
    }
   ],
   "source": [
    "# reading data into a data.frame\n",
    "fake = pd.read_csv('../input/fake-and-real-news-dataset/Fake.csv',delimiter=',',encoding='utf-8')\n",
    "real = pd.read_csv('../input/fake-and-real-news-dataset/True.csv',delimiter=',',encoding='utf-8')\n",
    "\n",
    "# adding a new column 'label' containing the labels\n",
    "fake['label'] = 'fake'\n",
    "real['label'] = 'real'\n",
    "\n",
    "# concatinating both data.frames, shuffling them and remove unnecessary columns\n",
    "df = pd.concat([fake, real], axis=0)\n",
    "df = df.sample(frac = 1) # shuffles the whole data frame\n",
    "df = df.drop('subject', axis=1)\n",
    "df = df.drop('date', axis=1)\n",
    "df = df.drop('title', axis=1)\n",
    "\n",
    "# replacing the labels for integers, necessary for the loss function\n",
    "df['label'] = df['label'].replace({'real':0, 'fake':1})\n",
    "\n",
    "print(\"Number of fake Articles:\", len(df.loc[df['label'] == 1]))\n",
    "print(\"Number of real Articles:\", len(df.loc[df['label'] == 0]))\n",
    "df.head()\n",
    "\n"
   ]
  },
  {
   "cell_type": "code",
   "execution_count": 3,
   "metadata": {
    "execution": {
     "iopub.execute_input": "2022-11-18T13:13:10.192388Z",
     "iopub.status.busy": "2022-11-18T13:13:10.191245Z",
     "iopub.status.idle": "2022-11-18T13:13:16.773428Z",
     "shell.execute_reply": "2022-11-18T13:13:16.771623Z",
     "shell.execute_reply.started": "2022-11-18T13:13:10.192332Z"
    }
   },
   "outputs": [
    {
     "data": {
      "text/html": [
       "<div>\n",
       "<style scoped>\n",
       "    .dataframe tbody tr th:only-of-type {\n",
       "        vertical-align: middle;\n",
       "    }\n",
       "\n",
       "    .dataframe tbody tr th {\n",
       "        vertical-align: top;\n",
       "    }\n",
       "\n",
       "    .dataframe thead th {\n",
       "        text-align: right;\n",
       "    }\n",
       "</style>\n",
       "<table border=\"1\" class=\"dataframe\">\n",
       "  <thead>\n",
       "    <tr style=\"text-align: right;\">\n",
       "      <th></th>\n",
       "      <th>text</th>\n",
       "      <th>label</th>\n",
       "      <th>New_Text</th>\n",
       "    </tr>\n",
       "  </thead>\n",
       "  <tbody>\n",
       "    <tr>\n",
       "      <th>18620</th>\n",
       "      <td>BARCELONA (Reuters) - Tens of thousands of Cat...</td>\n",
       "      <td>0</td>\n",
       "      <td>to vote in a banned independence referendum on...</td>\n",
       "    </tr>\n",
       "    <tr>\n",
       "      <th>21550</th>\n",
       "      <td>Greg Gutfield asks the question we all would l...</td>\n",
       "      <td>1</td>\n",
       "      <td>working for planned parenthood in the undercov...</td>\n",
       "    </tr>\n",
       "    <tr>\n",
       "      <th>15265</th>\n",
       "      <td>JAKARTA/TIMIKA, Indonesia (Reuters) - Armed se...</td>\n",
       "      <td>0</td>\n",
       "      <td>to disrupt freeportmcmoran inc s giant grasber...</td>\n",
       "    </tr>\n",
       "    <tr>\n",
       "      <th>9424</th>\n",
       "      <td>HO CHI MINH CITY, Vietnam (Reuters) - Washingt...</td>\n",
       "      <td>0</td>\n",
       "      <td>of lethal weapons to vietnam is not aimed at c...</td>\n",
       "    </tr>\n",
       "    <tr>\n",
       "      <th>15835</th>\n",
       "      <td>We have not observed the principles and ideal...</td>\n",
       "      <td>1</td>\n",
       "      <td>makes sure to let everyone know americans neve...</td>\n",
       "    </tr>\n",
       "  </tbody>\n",
       "</table>\n",
       "</div>"
      ],
      "text/plain": [
       "                                                    text  label  \\\n",
       "18620  BARCELONA (Reuters) - Tens of thousands of Cat...      0   \n",
       "21550  Greg Gutfield asks the question we all would l...      1   \n",
       "15265  JAKARTA/TIMIKA, Indonesia (Reuters) - Armed se...      0   \n",
       "9424   HO CHI MINH CITY, Vietnam (Reuters) - Washingt...      0   \n",
       "15835   We have not observed the principles and ideal...      1   \n",
       "\n",
       "                                                New_Text  \n",
       "18620  to vote in a banned independence referendum on...  \n",
       "21550  working for planned parenthood in the undercov...  \n",
       "15265  to disrupt freeportmcmoran inc s giant grasber...  \n",
       "9424   of lethal weapons to vietnam is not aimed at c...  \n",
       "15835  makes sure to let everyone know americans neve...  "
      ]
     },
     "execution_count": 3,
     "metadata": {},
     "output_type": "execute_result"
    }
   ],
   "source": [
    "# iterating over the messages and standardizing them with case conversion, removing numbers, punctuation and white space\n",
    "new_sentences = []\n",
    "for article in df['text']:\n",
    "    norm_article = article.lower() # changing all letters to lowercase\n",
    "    norm_article = re.sub(r'\\d+','',norm_article) # \\d+ removing one or more digits [0-9]\n",
    "    norm_article = re.sub(r'[^\\w\\s]','', norm_article) # removing all characters that are not alphaNumeric or whitespace e.g. tab or space\n",
    "    norm_article = norm_article.strip() # removing spaces at the beginning and end of a sentence e.g.   \"    spam    \"  -> \"spam\"\n",
    "    norm_article = ' '.join(norm_article.split()[15:]) # discarding the first 15 words of each article \n",
    "    new_sentences.append(norm_article)\n",
    "df['New_Text'] = new_sentences # adding new column with the standardized message\n",
    "df.head()"
   ]
  },
  {
   "cell_type": "code",
   "execution_count": 4,
   "metadata": {
    "execution": {
     "iopub.execute_input": "2022-11-18T13:13:16.776741Z",
     "iopub.status.busy": "2022-11-18T13:13:16.776326Z",
     "iopub.status.idle": "2022-11-18T13:13:16.794837Z",
     "shell.execute_reply": "2022-11-18T13:13:16.792932Z",
     "shell.execute_reply.started": "2022-11-18T13:13:16.776706Z"
    }
   },
   "outputs": [],
   "source": [
    "train_x,test_x,train_y,test_y=train_test_split(df['New_Text'],df['label'],test_size=0.3,random_state=42) # split data into train and test data 70%-30%"
   ]
  },
  {
   "cell_type": "code",
   "execution_count": 5,
   "metadata": {
    "execution": {
     "iopub.execute_input": "2022-11-18T13:13:16.797050Z",
     "iopub.status.busy": "2022-11-18T13:13:16.796655Z",
     "iopub.status.idle": "2022-11-18T13:13:16.803947Z",
     "shell.execute_reply": "2022-11-18T13:13:16.802484Z",
     "shell.execute_reply.started": "2022-11-18T13:13:16.797014Z"
    }
   },
   "outputs": [],
   "source": [
    "# the labels need to be in a list for matching data types during training\n",
    "train_y_tolist = train_y.tolist()\n",
    "test_y_tolist = test_y.tolist()"
   ]
  },
  {
   "cell_type": "code",
   "execution_count": 6,
   "metadata": {
    "execution": {
     "iopub.execute_input": "2022-11-18T13:13:16.806516Z",
     "iopub.status.busy": "2022-11-18T13:13:16.806112Z",
     "iopub.status.idle": "2022-11-18T13:13:39.410041Z",
     "shell.execute_reply": "2022-11-18T13:13:39.408437Z",
     "shell.execute_reply.started": "2022-11-18T13:13:16.806479Z"
    }
   },
   "outputs": [],
   "source": [
    "# restrict vocabulary to the 20000 most frequent words\n",
    "num_words= 20000\n",
    "tokenizer = Tokenizer(num_words=num_words) # used to tokenize our messages\n",
    "\n",
    "tokenizer.fit_on_texts(train_x) # updates internal vocabulary. Each word in train_x gets assigned to a specific integer, so to say an ID. E.g. {the,1}, {news,2}, {evening, 3}\n",
    "\n",
    "vocab_size = num_words \n",
    "\n",
    "train_x_seq=tokenizer.texts_to_sequences(train_x) # converts the tokens of a text corpus into a sequence of integers, e.g \"the evening news\" -> [1, 3, 2]\n",
    "test_x_seq=tokenizer.texts_to_sequences(test_x)\n"
   ]
  },
  {
   "cell_type": "code",
   "execution_count": 7,
   "metadata": {
    "execution": {
     "iopub.execute_input": "2022-11-18T13:13:39.412167Z",
     "iopub.status.busy": "2022-11-18T13:13:39.411774Z",
     "iopub.status.idle": "2022-11-18T13:14:01.751301Z",
     "shell.execute_reply": "2022-11-18T13:14:01.749959Z",
     "shell.execute_reply.started": "2022-11-18T13:13:39.412134Z"
    }
   },
   "outputs": [],
   "source": [
    "# converting each sequence into a vector of dimension 15,000 by building the sum over all one-hot encoded vectors of the sequence\n",
    "train_x_vec = []\n",
    "for seq in train_x_seq:\n",
    "    vector=[0]*vocab_size\n",
    "    for w in seq:\n",
    "        if w < vocab_size+1:\n",
    "            vector[w-1]= vector[w-1] + 1\n",
    "    train_x_vec.append(vector)\n",
    "\n",
    "test_x_vec = []\n",
    "for seq in test_x_seq:\n",
    "    vector=[0]*vocab_size\n",
    "    for w in seq:\n",
    "        if w < vocab_size+1:\n",
    "            vector[w-1]= vector[w-1] + 1\n",
    "    test_x_vec.append(vector)\n",
    "\n"
   ]
  },
  {
   "cell_type": "code",
   "execution_count": 8,
   "metadata": {
    "execution": {
     "iopub.execute_input": "2022-11-18T13:14:01.753638Z",
     "iopub.status.busy": "2022-11-18T13:14:01.753071Z",
     "iopub.status.idle": "2022-11-18T13:14:08.000659Z",
     "shell.execute_reply": "2022-11-18T13:14:07.999388Z",
     "shell.execute_reply.started": "2022-11-18T13:14:01.753550Z"
    }
   },
   "outputs": [
    {
     "name": "stdout",
     "output_type": "stream",
     "text": [
      "Model: \"model\"\n",
      "_________________________________________________________________\n",
      "Layer (type)                 Output Shape              Param #   \n",
      "=================================================================\n",
      "input_1 (InputLayer)         [(None, 20000)]           0         \n",
      "_________________________________________________________________\n",
      "dense (Dense)                (None, 1)                 20001     \n",
      "=================================================================\n",
      "Total params: 20,001\n",
      "Trainable params: 20,001\n",
      "Non-trainable params: 0\n",
      "_________________________________________________________________\n"
     ]
    },
    {
     "name": "stderr",
     "output_type": "stream",
     "text": [
      "2022-11-18 13:14:07.917740: I tensorflow/core/common_runtime/process_util.cc:146] Creating new thread pool with default inter op setting: 2. Tune using inter_op_parallelism_threads for best performance.\n"
     ]
    }
   ],
   "source": [
    "# building the model:\n",
    "inputs = keras.Input(shape = (vocab_size,), dtype=\"int64\")\n",
    "outputs = layers.Dense(1, activation=\"sigmoid\")(inputs)\n",
    "model = keras.Model(inputs, outputs)\n",
    "\n",
    "model.compile(loss='mse',optimizer='SGD',metrics=['accuracy'])\n",
    "epochs=30\n",
    "\n",
    "model.summary()"
   ]
  },
  {
   "cell_type": "code",
   "execution_count": 9,
   "metadata": {
    "execution": {
     "iopub.execute_input": "2022-11-18T13:14:08.003053Z",
     "iopub.status.busy": "2022-11-18T13:14:08.002226Z",
     "iopub.status.idle": "2022-11-18T14:36:05.196787Z",
     "shell.execute_reply": "2022-11-18T14:36:05.194951Z",
     "shell.execute_reply.started": "2022-11-18T13:14:08.003012Z"
    }
   },
   "outputs": [
    {
     "name": "stderr",
     "output_type": "stream",
     "text": [
      "2022-11-18 14:09:08.861358: I tensorflow/compiler/mlir/mlir_graph_optimization_pass.cc:185] None of the MLIR Optimization Passes are enabled (registered 2)\n"
     ]
    },
    {
     "name": "stdout",
     "output_type": "stream",
     "text": [
      "Epoch 1/30\n",
      "983/983 [==============================] - 1419s 1s/step - loss: 0.0781 - accuracy: 0.9193 - val_loss: 0.0606 - val_accuracy: 0.9464\n",
      "Epoch 2/30\n",
      "983/983 [==============================] - 5s 5ms/step - loss: 0.0531 - accuracy: 0.9566 - val_loss: 0.0504 - val_accuracy: 0.9582\n",
      "Epoch 3/30\n",
      "983/983 [==============================] - 4s 4ms/step - loss: 0.0469 - accuracy: 0.9625 - val_loss: 0.0456 - val_accuracy: 0.9629\n",
      "Epoch 4/30\n",
      "983/983 [==============================] - 4s 5ms/step - loss: 0.0431 - accuracy: 0.9659 - val_loss: 0.0431 - val_accuracy: 0.9647\n",
      "Epoch 5/30\n",
      "983/983 [==============================] - 5s 5ms/step - loss: 0.0403 - accuracy: 0.9682 - val_loss: 0.0410 - val_accuracy: 0.9669\n",
      "Epoch 6/30\n",
      "983/983 [==============================] - 4s 4ms/step - loss: 0.0382 - accuracy: 0.9700 - val_loss: 0.0390 - val_accuracy: 0.9683\n",
      "Epoch 7/30\n",
      "983/983 [==============================] - 5s 5ms/step - loss: 0.0365 - accuracy: 0.9720 - val_loss: 0.0377 - val_accuracy: 0.9689\n",
      "Epoch 8/30\n",
      "983/983 [==============================] - 4s 5ms/step - loss: 0.0349 - accuracy: 0.9732 - val_loss: 0.0365 - val_accuracy: 0.9702\n",
      "Epoch 9/30\n",
      "983/983 [==============================] - 5s 5ms/step - loss: 0.0337 - accuracy: 0.9744 - val_loss: 0.0359 - val_accuracy: 0.9706\n",
      "Epoch 10/30\n",
      "983/983 [==============================] - 5s 5ms/step - loss: 0.0327 - accuracy: 0.9753 - val_loss: 0.0354 - val_accuracy: 0.9705\n",
      "Epoch 11/30\n",
      "983/983 [==============================] - 5s 5ms/step - loss: 0.0317 - accuracy: 0.9764 - val_loss: 0.0343 - val_accuracy: 0.9713\n",
      "Epoch 12/30\n",
      "983/983 [==============================] - 5s 5ms/step - loss: 0.0309 - accuracy: 0.9765 - val_loss: 0.0340 - val_accuracy: 0.9713\n",
      "Epoch 13/30\n",
      "983/983 [==============================] - 5s 5ms/step - loss: 0.0300 - accuracy: 0.9781 - val_loss: 0.0326 - val_accuracy: 0.9726\n",
      "Epoch 14/30\n",
      "983/983 [==============================] - 5s 5ms/step - loss: 0.0293 - accuracy: 0.9781 - val_loss: 0.0320 - val_accuracy: 0.9731\n",
      "Epoch 15/30\n",
      "983/983 [==============================] - 5s 5ms/step - loss: 0.0287 - accuracy: 0.9789 - val_loss: 0.0318 - val_accuracy: 0.9724\n",
      "Epoch 16/30\n",
      "983/983 [==============================] - 5s 5ms/step - loss: 0.0279 - accuracy: 0.9794 - val_loss: 0.0311 - val_accuracy: 0.9742\n",
      "Epoch 17/30\n",
      "983/983 [==============================] - 5s 6ms/step - loss: 0.0274 - accuracy: 0.9802 - val_loss: 0.0311 - val_accuracy: 0.9733\n",
      "Epoch 18/30\n",
      "983/983 [==============================] - 5s 5ms/step - loss: 0.0269 - accuracy: 0.9804 - val_loss: 0.0303 - val_accuracy: 0.9742\n",
      "Epoch 19/30\n",
      "983/983 [==============================] - 4s 5ms/step - loss: 0.0264 - accuracy: 0.9811 - val_loss: 0.0300 - val_accuracy: 0.9746\n",
      "Epoch 20/30\n",
      "983/983 [==============================] - 5s 5ms/step - loss: 0.0260 - accuracy: 0.9816 - val_loss: 0.0300 - val_accuracy: 0.9740\n",
      "Epoch 21/30\n",
      "983/983 [==============================] - 5s 5ms/step - loss: 0.0255 - accuracy: 0.9819 - val_loss: 0.0298 - val_accuracy: 0.9745\n",
      "Epoch 22/30\n",
      "983/983 [==============================] - 4s 5ms/step - loss: 0.0251 - accuracy: 0.9819 - val_loss: 0.0289 - val_accuracy: 0.9756\n",
      "Epoch 23/30\n",
      "983/983 [==============================] - 5s 5ms/step - loss: 0.0246 - accuracy: 0.9827 - val_loss: 0.0290 - val_accuracy: 0.9751\n",
      "Epoch 24/30\n",
      "983/983 [==============================] - 5s 5ms/step - loss: 0.0243 - accuracy: 0.9828 - val_loss: 0.0283 - val_accuracy: 0.9758\n",
      "Epoch 25/30\n",
      "983/983 [==============================] - 5s 5ms/step - loss: 0.0239 - accuracy: 0.9836 - val_loss: 0.0283 - val_accuracy: 0.9748\n",
      "Epoch 26/30\n",
      "983/983 [==============================] - 5s 5ms/step - loss: 0.0236 - accuracy: 0.9840 - val_loss: 0.0280 - val_accuracy: 0.9757\n",
      "Epoch 27/30\n",
      "983/983 [==============================] - 5s 5ms/step - loss: 0.0232 - accuracy: 0.9838 - val_loss: 0.0275 - val_accuracy: 0.9763\n",
      "Epoch 28/30\n",
      "983/983 [==============================] - 5s 5ms/step - loss: 0.0230 - accuracy: 0.9842 - val_loss: 0.0273 - val_accuracy: 0.9764\n",
      "Epoch 29/30\n",
      "983/983 [==============================] - 5s 5ms/step - loss: 0.0226 - accuracy: 0.9842 - val_loss: 0.0272 - val_accuracy: 0.9765\n",
      "Epoch 30/30\n",
      "983/983 [==============================] - 5s 5ms/step - loss: 0.0223 - accuracy: 0.9844 - val_loss: 0.0271 - val_accuracy: 0.9762\n"
     ]
    }
   ],
   "source": [
    "# training the model\n",
    "result=model.fit(train_x_vec,train_y_tolist, epochs=epochs, shuffle=True, validation_data=(test_x_vec,test_y_tolist))"
   ]
  },
  {
   "cell_type": "code",
   "execution_count": 10,
   "metadata": {
    "execution": {
     "iopub.execute_input": "2022-11-18T14:36:05.200901Z",
     "iopub.status.busy": "2022-11-18T14:36:05.200433Z",
     "iopub.status.idle": "2022-11-18T14:36:05.208644Z",
     "shell.execute_reply": "2022-11-18T14:36:05.207082Z",
     "shell.execute_reply.started": "2022-11-18T14:36:05.200863Z"
    }
   },
   "outputs": [],
   "source": [
    "#saving weights for further analysis\n",
    "weights = model.get_weights() "
   ]
  },
  {
   "cell_type": "code",
   "execution_count": 11,
   "metadata": {
    "execution": {
     "iopub.execute_input": "2022-11-18T14:36:05.211548Z",
     "iopub.status.busy": "2022-11-18T14:36:05.210539Z",
     "iopub.status.idle": "2022-11-18T14:36:05.241181Z",
     "shell.execute_reply": "2022-11-18T14:36:05.239545Z",
     "shell.execute_reply.started": "2022-11-18T14:36:05.211463Z"
    }
   },
   "outputs": [
    {
     "data": {
      "text/plain": [
       "[12, 170, 241, 340, 80]"
      ]
     },
     "execution_count": 11,
     "metadata": {},
     "output_type": "execute_result"
    }
   ],
   "source": [
    "# get the positions of the 5 smallest weights\n",
    "import heapq \n",
    "\n",
    "heapq.nsmallest(5, range(len(weights[0])), key=weights[0].__getitem__)"
   ]
  },
  {
   "cell_type": "code",
   "execution_count": 12,
   "metadata": {
    "execution": {
     "iopub.execute_input": "2022-11-18T14:36:05.244685Z",
     "iopub.status.busy": "2022-11-18T14:36:05.243637Z",
     "iopub.status.idle": "2022-11-18T14:36:05.274672Z",
     "shell.execute_reply": "2022-11-18T14:36:05.272656Z",
     "shell.execute_reply.started": "2022-11-18T14:36:05.244630Z"
    }
   },
   "outputs": [
    {
     "data": {
      "text/plain": [
       "[42, 161, 8, 79, 129]"
      ]
     },
     "execution_count": 12,
     "metadata": {},
     "output_type": "execute_result"
    }
   ],
   "source": [
    "# get the positions of the 5 biggest weights\n",
    "heapq.nlargest(5, range(len(weights[0])), key=weights[0].__getitem__)"
   ]
  },
  {
   "cell_type": "code",
   "execution_count": 27,
   "metadata": {
    "execution": {
     "iopub.execute_input": "2022-11-18T14:48:55.762113Z",
     "iopub.status.busy": "2022-11-18T14:48:55.761630Z",
     "iopub.status.idle": "2022-11-18T14:48:55.818914Z",
     "shell.execute_reply": "2022-11-18T14:48:55.817569Z",
     "shell.execute_reply.started": "2022-11-18T14:48:55.762079Z"
    }
   },
   "outputs": [
    {
     "name": "stdout",
     "output_type": "stream",
     "text": [
      "('the', 1)\n",
      "('to', 2)\n",
      "('of', 3)\n",
      "('and', 4)\n",
      "('a', 5)\n",
      "('in', 6)\n",
      "('that', 7)\n",
      "('on', 8)\n",
      "('s', 9)\n",
      "('for', 10)\n",
      "('is', 11)\n",
      "('he', 12)\n",
      "('said', 13)\n",
      "('it', 14)\n",
      "('with', 15)\n",
      "('was', 16)\n",
      "('trump', 17)\n",
      "('as', 18)\n",
      "('his', 19)\n",
      "('by', 20)\n",
      "('has', 21)\n",
      "('be', 22)\n",
      "('have', 23)\n",
      "('not', 24)\n",
      "('from', 25)\n",
      "('this', 26)\n",
      "('at', 27)\n",
      "('are', 28)\n",
      "('who', 29)\n",
      "('they', 30)\n",
      "('an', 31)\n",
      "('i', 32)\n",
      "('but', 33)\n",
      "('we', 34)\n",
      "('us', 35)\n",
      "('would', 36)\n",
      "('about', 37)\n",
      "('will', 38)\n",
      "('their', 39)\n",
      "('had', 40)\n",
      "('president', 41)\n",
      "('you', 42)\n",
      "('t', 43)\n",
      "('were', 44)\n",
      "('been', 45)\n",
      "('people', 46)\n",
      "('or', 47)\n",
      "('more', 48)\n",
      "('which', 49)\n",
      "('she', 50)\n",
      "('her', 51)\n",
      "('after', 52)\n",
      "('one', 53)\n",
      "('its', 54)\n",
      "('if', 55)\n",
      "('all', 56)\n",
      "('out', 57)\n",
      "('what', 58)\n",
      "('also', 59)\n",
      "('when', 60)\n",
      "('state', 61)\n",
      "('there', 62)\n",
      "('up', 63)\n",
      "('new', 64)\n",
      "('no', 65)\n",
      "('over', 66)\n",
      "('our', 67)\n",
      "('states', 68)\n",
      "('government', 69)\n",
      "('can', 70)\n",
      "('house', 71)\n",
      "('clinton', 72)\n",
      "('him', 73)\n",
      "('than', 74)\n",
      "('other', 75)\n",
      "('so', 76)\n",
      "('some', 77)\n",
      "('just', 78)\n",
      "('could', 79)\n",
      "('obama', 80)\n",
      "('told', 81)\n",
      "('into', 82)\n",
      "('united', 83)\n",
      "('do', 84)\n",
      "('republican', 85)\n",
      "('against', 86)\n",
      "('like', 87)\n",
      "('because', 88)\n",
      "('them', 89)\n",
      "('white', 90)\n",
      "('any', 91)\n",
      "('campaign', 92)\n",
      "('donald', 93)\n",
      "('last', 94)\n",
      "('two', 95)\n",
      "('time', 96)\n",
      "('news', 97)\n",
      "('now', 98)\n",
      "('election', 99)\n",
      "('only', 100)\n",
      "('how', 101)\n",
      "('party', 102)\n",
      "('first', 103)\n",
      "('year', 104)\n",
      "('even', 105)\n",
      "('should', 106)\n",
      "('being', 107)\n",
      "('country', 108)\n",
      "('former', 109)\n",
      "('did', 110)\n",
      "('while', 111)\n",
      "('many', 112)\n",
      "('years', 113)\n",
      "('before', 114)\n",
      "('during', 115)\n",
      "('security', 116)\n",
      "('most', 117)\n",
      "('say', 118)\n",
      "('national', 119)\n",
      "('political', 120)\n",
      "('may', 121)\n",
      "('those', 122)\n",
      "('law', 123)\n",
      "('hillary', 124)\n",
      "('get', 125)\n",
      "('media', 126)\n",
      "('made', 127)\n",
      "('police', 128)\n",
      "('make', 129)\n",
      "('american', 130)\n",
      "('since', 131)\n",
      "('where', 132)\n",
      "('percent', 133)\n",
      "('going', 134)\n",
      "('court', 135)\n",
      "('these', 136)\n",
      "('under', 137)\n",
      "('very', 138)\n",
      "('republicans', 139)\n",
      "('back', 140)\n",
      "('support', 141)\n",
      "('then', 142)\n",
      "('administration', 143)\n",
      "('bill', 144)\n",
      "('according', 145)\n",
      "('between', 146)\n",
      "('including', 147)\n",
      "('vote', 148)\n",
      "('officials', 149)\n",
      "('group', 150)\n",
      "('think', 151)\n",
      "('know', 152)\n",
      "('week', 153)\n",
      "('democratic', 154)\n",
      "('presidential', 155)\n",
      "('down', 156)\n",
      "('america', 157)\n",
      "('public', 158)\n",
      "('russia', 159)\n",
      "('take', 160)\n",
      "('way', 161)\n",
      "('via', 162)\n",
      "('north', 163)\n",
      "('office', 164)\n",
      "('my', 165)\n",
      "('such', 166)\n",
      "('senate', 167)\n",
      "('statement', 168)\n",
      "('federal', 169)\n",
      "('re', 170)\n",
      "('trumps', 171)\n",
      "('military', 172)\n",
      "('million', 173)\n",
      "('right', 174)\n",
      "('called', 175)\n",
      "('world', 176)\n",
      "('foreign', 177)\n",
      "('saying', 178)\n",
      "('don', 179)\n",
      "('department', 180)\n",
      "('washington', 181)\n",
      "('well', 182)\n",
      "('want', 183)\n",
      "('here', 184)\n",
      "('see', 185)\n",
      "('both', 186)\n",
      "('image', 187)\n",
      "('still', 188)\n",
      "('much', 189)\n",
      "('tax', 190)\n",
      "('day', 191)\n",
      "('part', 192)\n",
      "('your', 193)\n",
      "('work', 194)\n",
      "('congress', 195)\n",
      "('another', 196)\n",
      "('through', 197)\n",
      "('women', 198)\n",
      "('go', 199)\n",
      "('says', 200)\n",
      "('policy', 201)\n",
      "('own', 202)\n",
      "('russian', 203)\n",
      "('asked', 204)\n",
      "('rights', 205)\n",
      "('democrats', 206)\n",
      "('me', 207)\n",
      "('war', 208)\n",
      "('tuesday', 209)\n",
      "('official', 210)\n",
      "('city', 211)\n",
      "('china', 212)\n",
      "('need', 213)\n",
      "('deal', 214)\n",
      "('next', 215)\n",
      "('minister', 216)\n",
      "('off', 217)\n",
      "('help', 218)\n",
      "('whether', 219)\n",
      "('video', 220)\n",
      "('wednesday', 221)\n",
      "('secretary', 222)\n",
      "('committee', 223)\n",
      "('americans', 224)\n",
      "('three', 225)\n",
      "('general', 226)\n",
      "('black', 227)\n",
      "('why', 228)\n",
      "('case', 229)\n",
      "('friday', 230)\n",
      "('around', 231)\n",
      "('never', 232)\n",
      "('monday', 233)\n",
      "('show', 234)\n",
      "('thursday', 235)\n",
      "('same', 236)\n",
      "('use', 237)\n",
      "('members', 238)\n",
      "('does', 239)\n",
      "('good', 240)\n",
      "('york', 241)\n",
      "('reuters', 242)\n",
      "('order', 243)\n",
      "('come', 244)\n",
      "('man', 245)\n",
      "('meeting', 246)\n",
      "('took', 247)\n",
      "('korea', 248)\n",
      "('used', 249)\n",
      "('report', 250)\n",
      "('without', 251)\n",
      "('power', 252)\n",
      "('leader', 253)\n",
      "('every', 254)\n",
      "('end', 255)\n",
      "('countries', 256)\n",
      "('left', 257)\n",
      "('fbi', 258)\n",
      "('put', 259)\n",
      "('investigation', 260)\n",
      "('information', 261)\n",
      "('really', 262)\n",
      "('senator', 263)\n",
      "('money', 264)\n",
      "('times', 265)\n",
      "('change', 266)\n",
      "('iran', 267)\n",
      "('month', 268)\n",
      "('intelligence', 269)\n",
      "('trade', 270)\n",
      "('justice', 271)\n",
      "('attack', 272)\n",
      "('candidate', 273)\n",
      "('family', 274)\n",
      "('twitter', 275)\n",
      "('nuclear', 276)\n",
      "('top', 277)\n",
      "('groups', 278)\n",
      "('voters', 279)\n",
      "('international', 280)\n",
      "('reported', 281)\n",
      "('business', 282)\n",
      "('fact', 283)\n",
      "('already', 284)\n",
      "('days', 285)\n",
      "('syria', 286)\n",
      "('several', 287)\n",
      "('long', 288)\n",
      "('leaders', 289)\n",
      "('interview', 290)\n",
      "('decision', 291)\n",
      "('plan', 292)\n",
      "('south', 293)\n",
      "('far', 294)\n",
      "('director', 295)\n",
      "('speech', 296)\n",
      "('too', 297)\n",
      "('health', 298)\n",
      "('however', 299)\n",
      "('place', 300)\n",
      "('again', 301)\n",
      "('something', 302)\n",
      "('likely', 303)\n",
      "('among', 304)\n",
      "('program', 305)\n",
      "('clear', 306)\n",
      "('story', 307)\n",
      "('post', 308)\n",
      "('agency', 309)\n",
      "('months', 310)\n",
      "('might', 311)\n",
      "('recent', 312)\n",
      "('islamic', 313)\n",
      "('call', 314)\n",
      "('believe', 315)\n",
      "('immigration', 316)\n",
      "('must', 317)\n",
      "('act', 318)\n",
      "('press', 319)\n",
      "('came', 320)\n",
      "('move', 321)\n",
      "('social', 322)\n",
      "('conservative', 323)\n",
      "('won', 324)\n",
      "('later', 325)\n",
      "('home', 326)\n",
      "('though', 327)\n",
      "('issue', 328)\n",
      "('number', 329)\n",
      "('billion', 330)\n",
      "('john', 331)\n",
      "('chief', 332)\n",
      "('children', 333)\n",
      "('border', 334)\n",
      "('didn', 335)\n",
      "('fox', 336)\n",
      "('things', 337)\n",
      "('got', 338)\n",
      "('seen', 339)\n",
      "('least', 340)\n",
      "('reporters', 341)\n",
      "('major', 342)\n",
      "('m', 343)\n",
      "('found', 344)\n",
      "('trying', 345)\n",
      "('ve', 346)\n",
      "('member', 347)\n",
      "('economic', 348)\n",
      "('spokesman', 349)\n",
      "('matter', 350)\n"
     ]
    }
   ],
   "source": [
    "# checking the words matching the positions of the biggest/smallest weights - keep in mind, word_index starts at 1, the array of the weights at 0 \n",
    "k = 0\n",
    "for item in tokenizer.word_index.items():\n",
    "    if k < 350:\n",
    "        print(item)\n",
    "        k += 1"
   ]
  },
  {
   "cell_type": "code",
   "execution_count": 14,
   "metadata": {
    "execution": {
     "iopub.execute_input": "2022-11-18T14:36:05.334015Z",
     "iopub.status.busy": "2022-11-18T14:36:05.333089Z",
     "iopub.status.idle": "2022-11-18T14:36:05.779095Z",
     "shell.execute_reply": "2022-11-18T14:36:05.777787Z",
     "shell.execute_reply.started": "2022-11-18T14:36:05.333965Z"
    }
   },
   "outputs": [
    {
     "data": {
      "image/png": "[encoded data removed]",
      "text/plain": [
       "<Figure size 1080x360 with 2 Axes>"
      ]
     },
     "metadata": {
      "needs_background": "light"
     },
     "output_type": "display_data"
    }
   ],
   "source": [
    "#plot metrics\n",
    "import matplotlib.pyplot as plt\n",
    "\n",
    "plt.figure(figsize=(15,5))\n",
    "plt.subplot(121)\n",
    "plt.plot(result.history['loss'],label='train_loss')\n",
    "plt.plot(result.history['val_loss'],label='test_loss')\n",
    "plt.title(\"Loss\")\n",
    "plt.legend()\n",
    "plt.suptitle(\"Performance evaluation\")\n",
    "\n",
    "plt.subplot(122)\n",
    "plt.plot(result.history['accuracy'],label='train_accuracy')\n",
    "plt.plot(result.history['val_accuracy'],label='test_accuracy')\n",
    "plt.title(\"Accuracy\")\n",
    "plt.legend()\n",
    "plt.show()"
   ]
  }
 ],
 "metadata": {
  "kernelspec": {
   "display_name": "Python 3 (ipykernel)",
   "language": "python",
   "name": "python3"
  },
  "language_info": {
   "codemirror_mode": {
    "name": "ipython",
    "version": 3
   },
   "file_extension": ".py",
   "mimetype": "text/x-python",
   "name": "python",
   "nbconvert_exporter": "python",
   "pygments_lexer": "ipython3",
   "version": "3.8.10"
  }
 },
 "nbformat": 4,
 "nbformat_minor": 4
}
